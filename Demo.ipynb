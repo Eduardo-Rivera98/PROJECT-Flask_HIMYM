{
 "cells": [
  {
   "cell_type": "code",
   "execution_count": null,
   "id": "e39bfc0a",
   "metadata": {},
   "outputs": [],
   "source": [
    "import requests"
   ]
  },
  {
   "cell_type": "code",
   "execution_count": null,
   "id": "922056d4",
   "metadata": {},
   "outputs": [],
   "source": [
    "frase_nueva={'frase': 'Legen... Wait for it my friendss........dary!', 'personaje': 'Barney ', 'Temporada':1 , 'episodio':'Pilot'}"
   ]
  },
  {
   "cell_type": "code",
   "execution_count": null,
   "id": "144927fd",
   "metadata": {},
   "outputs": [],
   "source": [
    "endpoint = \"http://127.0.0.1:5000/nuevafrase\"\n",
    "requests.post(endpoint, data=frase_nueva).content"
   ]
  },
  {
   "cell_type": "code",
   "execution_count": null,
   "id": "e0026310",
   "metadata": {},
   "outputs": [],
   "source": []
  },
  {
   "cell_type": "code",
   "execution_count": null,
   "id": "35df90bf",
   "metadata": {},
   "outputs": [],
   "source": []
  }
 ],
 "metadata": {
  "kernelspec": {
   "display_name": "Ironhack",
   "language": "python",
   "name": "ironhack"
  },
  "language_info": {
   "codemirror_mode": {
    "name": "ipython",
    "version": 3
   },
   "file_extension": ".py",
   "mimetype": "text/x-python",
   "name": "python",
   "nbconvert_exporter": "python",
   "pygments_lexer": "ipython3",
   "version": "3.8.12"
  }
 },
 "nbformat": 4,
 "nbformat_minor": 5
}
